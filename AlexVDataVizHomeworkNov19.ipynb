{
  "nbformat": 4,
  "nbformat_minor": 0,
  "metadata": {
    "colab": {
      "name": "AlexVDataVizHomeworkNov19.ipynb",
      "provenance": [],
      "collapsed_sections": [],
      "include_colab_link": true
    },
    "kernelspec": {
      "name": "python3",
      "display_name": "Python 3"
    }
  },
  "cells": [
    {
      "cell_type": "markdown",
      "metadata": {
        "id": "view-in-github",
        "colab_type": "text"
      },
      "source": [
        "<a href=\"https://colab.research.google.com/github/avelasqu/Crime_UK/blob/master/AlexVDataVizHomeworkNov19.ipynb\" target=\"_parent\"><img src=\"https://colab.research.google.com/assets/colab-badge.svg\" alt=\"Open In Colab\"/></a>"
      ]
    },
    {
      "cell_type": "code",
      "metadata": {
        "id": "RA7N-8kzsGAl",
        "colab_type": "code",
        "colab": {}
      },
      "source": [
        "import pandas as pd # Test2"
      ],
      "execution_count": 0,
      "outputs": []
    },
    {
      "cell_type": "code",
      "metadata": {
        "id": "x-WlT0HI2pLE",
        "colab_type": "code",
        "colab": {}
      },
      "source": [
        "# from google.colab import auth\n",
        "# auth.authenticate_user()"
      ],
      "execution_count": 0,
      "outputs": []
    },
    {
      "cell_type": "code",
      "metadata": {
        "id": "TyfZMhjIstyg",
        "colab_type": "code",
        "outputId": "8ecbd5c3-f83b-4532-c9e0-277bef687192",
        "colab": {
          "base_uri": "https://localhost:8080/",
          "height": 442
        }
      },
      "source": [
        "crime_data_thames = pd.read_csv('https://raw.githubusercontent.com/avelasqu/Crime_UK/master/2019-09-thames-valley-street.csv')\n",
        "crime_data_thames.head()"
      ],
      "execution_count": 0,
      "outputs": [
        {
          "output_type": "execute_result",
          "data": {
            "text/html": [
              "<div>\n",
              "<style scoped>\n",
              "    .dataframe tbody tr th:only-of-type {\n",
              "        vertical-align: middle;\n",
              "    }\n",
              "\n",
              "    .dataframe tbody tr th {\n",
              "        vertical-align: top;\n",
              "    }\n",
              "\n",
              "    .dataframe thead th {\n",
              "        text-align: right;\n",
              "    }\n",
              "</style>\n",
              "<table border=\"1\" class=\"dataframe\">\n",
              "  <thead>\n",
              "    <tr style=\"text-align: right;\">\n",
              "      <th></th>\n",
              "      <th>Crime ID</th>\n",
              "      <th>Month</th>\n",
              "      <th>Reported by</th>\n",
              "      <th>Falls within</th>\n",
              "      <th>Longitude</th>\n",
              "      <th>Latitude</th>\n",
              "      <th>Location</th>\n",
              "      <th>LSOA code</th>\n",
              "      <th>LSOA name</th>\n",
              "      <th>Crime type</th>\n",
              "      <th>Last outcome category</th>\n",
              "      <th>Context</th>\n",
              "    </tr>\n",
              "  </thead>\n",
              "  <tbody>\n",
              "    <tr>\n",
              "      <th>0</th>\n",
              "      <td>ebf4a6aac2abbf98806917e73701cce7ebb30cf12b59c1...</td>\n",
              "      <td>2019-09</td>\n",
              "      <td>Thames Valley Police</td>\n",
              "      <td>Thames Valley Police</td>\n",
              "      <td>-0.970400</td>\n",
              "      <td>51.993385</td>\n",
              "      <td>On or near Willow Drive</td>\n",
              "      <td>E01017648</td>\n",
              "      <td>Aylesbury Vale 001A</td>\n",
              "      <td>Other theft</td>\n",
              "      <td>Investigation complete; no suspect identified</td>\n",
              "      <td>NaN</td>\n",
              "    </tr>\n",
              "    <tr>\n",
              "      <th>1</th>\n",
              "      <td>6c9cb85186382ba3c90a05b46c310601795f310ec104db...</td>\n",
              "      <td>2019-09</td>\n",
              "      <td>Thames Valley Police</td>\n",
              "      <td>Thames Valley Police</td>\n",
              "      <td>-0.971872</td>\n",
              "      <td>51.993965</td>\n",
              "      <td>On or near Bourton Road</td>\n",
              "      <td>E01017648</td>\n",
              "      <td>Aylesbury Vale 001A</td>\n",
              "      <td>Public order</td>\n",
              "      <td>Under investigation</td>\n",
              "      <td>NaN</td>\n",
              "    </tr>\n",
              "    <tr>\n",
              "      <th>2</th>\n",
              "      <td>897707e67ec7d6cf06c5b69a878d04c12d91b033e75d9a...</td>\n",
              "      <td>2019-09</td>\n",
              "      <td>Thames Valley Police</td>\n",
              "      <td>Thames Valley Police</td>\n",
              "      <td>-0.979494</td>\n",
              "      <td>51.997609</td>\n",
              "      <td>On or near Mallard Drive</td>\n",
              "      <td>E01017648</td>\n",
              "      <td>Aylesbury Vale 001A</td>\n",
              "      <td>Theft from the person</td>\n",
              "      <td>Under investigation</td>\n",
              "      <td>NaN</td>\n",
              "    </tr>\n",
              "    <tr>\n",
              "      <th>3</th>\n",
              "      <td>NaN</td>\n",
              "      <td>2019-09</td>\n",
              "      <td>Thames Valley Police</td>\n",
              "      <td>Thames Valley Police</td>\n",
              "      <td>-0.986293</td>\n",
              "      <td>51.997758</td>\n",
              "      <td>On or near Ford Street</td>\n",
              "      <td>E01017649</td>\n",
              "      <td>Aylesbury Vale 001B</td>\n",
              "      <td>Anti-social behaviour</td>\n",
              "      <td>NaN</td>\n",
              "      <td>NaN</td>\n",
              "    </tr>\n",
              "    <tr>\n",
              "      <th>4</th>\n",
              "      <td>cf72455cbdb5d7e748337d3df1983dac9d3071afbf2b85...</td>\n",
              "      <td>2019-09</td>\n",
              "      <td>Thames Valley Police</td>\n",
              "      <td>Thames Valley Police</td>\n",
              "      <td>-0.985433</td>\n",
              "      <td>51.994595</td>\n",
              "      <td>On or near Brookfield Lane</td>\n",
              "      <td>E01017649</td>\n",
              "      <td>Aylesbury Vale 001B</td>\n",
              "      <td>Bicycle theft</td>\n",
              "      <td>Investigation complete; no suspect identified</td>\n",
              "      <td>NaN</td>\n",
              "    </tr>\n",
              "  </tbody>\n",
              "</table>\n",
              "</div>"
            ],
            "text/plain": [
              "                                            Crime ID  ... Context\n",
              "0  ebf4a6aac2abbf98806917e73701cce7ebb30cf12b59c1...  ...     NaN\n",
              "1  6c9cb85186382ba3c90a05b46c310601795f310ec104db...  ...     NaN\n",
              "2  897707e67ec7d6cf06c5b69a878d04c12d91b033e75d9a...  ...     NaN\n",
              "3                                                NaN  ...     NaN\n",
              "4  cf72455cbdb5d7e748337d3df1983dac9d3071afbf2b85...  ...     NaN\n",
              "\n",
              "[5 rows x 12 columns]"
            ]
          },
          "metadata": {
            "tags": []
          },
          "execution_count": 3
        }
      ]
    },
    {
      "cell_type": "code",
      "metadata": {
        "id": "in-c_LHidnK7",
        "colab_type": "code",
        "outputId": "2b1a8d43-d20f-453c-f48c-40cae5d41a05",
        "colab": {
          "base_uri": "https://localhost:8080/",
          "height": 408
        }
      },
      "source": [
        "crime_data_london = pd.read_csv('https://raw.githubusercontent.com/avelasqu/Crime_UK/master/2019-09-city-of-london-street.csv')\n",
        "crime_data_london.head()"
      ],
      "execution_count": 0,
      "outputs": [
        {
          "output_type": "execute_result",
          "data": {
            "text/html": [
              "<div>\n",
              "<style scoped>\n",
              "    .dataframe tbody tr th:only-of-type {\n",
              "        vertical-align: middle;\n",
              "    }\n",
              "\n",
              "    .dataframe tbody tr th {\n",
              "        vertical-align: top;\n",
              "    }\n",
              "\n",
              "    .dataframe thead th {\n",
              "        text-align: right;\n",
              "    }\n",
              "</style>\n",
              "<table border=\"1\" class=\"dataframe\">\n",
              "  <thead>\n",
              "    <tr style=\"text-align: right;\">\n",
              "      <th></th>\n",
              "      <th>Crime ID</th>\n",
              "      <th>Month</th>\n",
              "      <th>Reported by</th>\n",
              "      <th>Falls within</th>\n",
              "      <th>Longitude</th>\n",
              "      <th>Latitude</th>\n",
              "      <th>Location</th>\n",
              "      <th>LSOA code</th>\n",
              "      <th>LSOA name</th>\n",
              "      <th>Crime type</th>\n",
              "      <th>Last outcome category</th>\n",
              "      <th>Context</th>\n",
              "    </tr>\n",
              "  </thead>\n",
              "  <tbody>\n",
              "    <tr>\n",
              "      <th>0</th>\n",
              "      <td>7a25ca529811eb9e72ed2f9439e30db33403f9c84d0843...</td>\n",
              "      <td>2019-09</td>\n",
              "      <td>City of London Police</td>\n",
              "      <td>City of London Police</td>\n",
              "      <td>-0.118676</td>\n",
              "      <td>51.527648</td>\n",
              "      <td>On or near Gray'S Inn Road</td>\n",
              "      <td>E01000940</td>\n",
              "      <td>Camden 024D</td>\n",
              "      <td>Drugs</td>\n",
              "      <td>Under investigation</td>\n",
              "      <td>NaN</td>\n",
              "    </tr>\n",
              "    <tr>\n",
              "      <th>1</th>\n",
              "      <td>c7774ecc82a7a5bb6e37aeaf05d18e6bec368c858c0ced...</td>\n",
              "      <td>2019-09</td>\n",
              "      <td>City of London Police</td>\n",
              "      <td>City of London Police</td>\n",
              "      <td>-0.111497</td>\n",
              "      <td>51.518226</td>\n",
              "      <td>On or near Pedestrian Subway</td>\n",
              "      <td>E01000914</td>\n",
              "      <td>Camden 028B</td>\n",
              "      <td>Burglary</td>\n",
              "      <td>Under investigation</td>\n",
              "      <td>NaN</td>\n",
              "    </tr>\n",
              "    <tr>\n",
              "      <th>2</th>\n",
              "      <td>d25e7baa3f8008797b349b458fe21899f54413ae50f1c6...</td>\n",
              "      <td>2019-09</td>\n",
              "      <td>City of London Police</td>\n",
              "      <td>City of London Police</td>\n",
              "      <td>-0.112422</td>\n",
              "      <td>51.515381</td>\n",
              "      <td>On or near Star Yard</td>\n",
              "      <td>E01000914</td>\n",
              "      <td>Camden 028B</td>\n",
              "      <td>Other theft</td>\n",
              "      <td>Under investigation</td>\n",
              "      <td>NaN</td>\n",
              "    </tr>\n",
              "    <tr>\n",
              "      <th>3</th>\n",
              "      <td>9ae0ef6983404acb5daf55d994c686421b458de14ebb34...</td>\n",
              "      <td>2019-09</td>\n",
              "      <td>City of London Police</td>\n",
              "      <td>City of London Police</td>\n",
              "      <td>-0.111962</td>\n",
              "      <td>51.518494</td>\n",
              "      <td>On or near Nightclub</td>\n",
              "      <td>E01000914</td>\n",
              "      <td>Camden 028B</td>\n",
              "      <td>Theft from the person</td>\n",
              "      <td>Investigation complete; no suspect identified</td>\n",
              "      <td>NaN</td>\n",
              "    </tr>\n",
              "    <tr>\n",
              "      <th>4</th>\n",
              "      <td>NaN</td>\n",
              "      <td>2019-09</td>\n",
              "      <td>City of London Police</td>\n",
              "      <td>City of London Police</td>\n",
              "      <td>-0.097562</td>\n",
              "      <td>51.518864</td>\n",
              "      <td>On or near Parking Area</td>\n",
              "      <td>E01000001</td>\n",
              "      <td>City of London 001A</td>\n",
              "      <td>Anti-social behaviour</td>\n",
              "      <td>NaN</td>\n",
              "      <td>NaN</td>\n",
              "    </tr>\n",
              "  </tbody>\n",
              "</table>\n",
              "</div>"
            ],
            "text/plain": [
              "                                            Crime ID  ... Context\n",
              "0  7a25ca529811eb9e72ed2f9439e30db33403f9c84d0843...  ...     NaN\n",
              "1  c7774ecc82a7a5bb6e37aeaf05d18e6bec368c858c0ced...  ...     NaN\n",
              "2  d25e7baa3f8008797b349b458fe21899f54413ae50f1c6...  ...     NaN\n",
              "3  9ae0ef6983404acb5daf55d994c686421b458de14ebb34...  ...     NaN\n",
              "4                                                NaN  ...     NaN\n",
              "\n",
              "[5 rows x 12 columns]"
            ]
          },
          "metadata": {
            "tags": []
          },
          "execution_count": 37
        }
      ]
    },
    {
      "cell_type": "code",
      "metadata": {
        "id": "doGfNx9PXjpv",
        "colab_type": "code",
        "outputId": "b2f38643-4ad4-4901-8317-78d7496bfc06",
        "colab": {
          "base_uri": "https://localhost:8080/",
          "height": 238
        }
      },
      "source": [
        "crime_data_thames.nunique()"
      ],
      "execution_count": 0,
      "outputs": [
        {
          "output_type": "execute_result",
          "data": {
            "text/plain": [
              "Crime ID                 14452\n",
              "Month                        1\n",
              "Reported by                  1\n",
              "Falls within                 1\n",
              "Longitude                 7669\n",
              "Latitude                  7658\n",
              "Location                  5628\n",
              "LSOA code                 1387\n",
              "LSOA name                 1387\n",
              "Crime type                  14\n",
              "Last outcome category       11\n",
              "Context                      0\n",
              "dtype: int64"
            ]
          },
          "metadata": {
            "tags": []
          },
          "execution_count": 4
        }
      ]
    },
    {
      "cell_type": "code",
      "metadata": {
        "id": "C3wq-4lkZWRc",
        "colab_type": "code",
        "colab": {}
      },
      "source": [
        "crime_data_thames.rename(columns = {\"Crime type\":\"Crime\"},inplace=True)"
      ],
      "execution_count": 0,
      "outputs": []
    },
    {
      "cell_type": "code",
      "metadata": {
        "id": "OewlgK8ieJmY",
        "colab_type": "code",
        "colab": {}
      },
      "source": [
        "crime_data_london.rename(columns ={\"Crime type\":\"Crime\"},inplace=True)"
      ],
      "execution_count": 0,
      "outputs": []
    },
    {
      "cell_type": "code",
      "metadata": {
        "id": "WHW_4t1hbJKg",
        "colab_type": "code",
        "outputId": "a6bdbf66-52a6-4cd2-cc1d-15432955f317",
        "colab": {
          "base_uri": "https://localhost:8080/",
          "height": 442
        }
      },
      "source": [
        "crime_data_thames.head()"
      ],
      "execution_count": 0,
      "outputs": [
        {
          "output_type": "execute_result",
          "data": {
            "text/html": [
              "<div>\n",
              "<style scoped>\n",
              "    .dataframe tbody tr th:only-of-type {\n",
              "        vertical-align: middle;\n",
              "    }\n",
              "\n",
              "    .dataframe tbody tr th {\n",
              "        vertical-align: top;\n",
              "    }\n",
              "\n",
              "    .dataframe thead th {\n",
              "        text-align: right;\n",
              "    }\n",
              "</style>\n",
              "<table border=\"1\" class=\"dataframe\">\n",
              "  <thead>\n",
              "    <tr style=\"text-align: right;\">\n",
              "      <th></th>\n",
              "      <th>Crime ID</th>\n",
              "      <th>Month</th>\n",
              "      <th>Reported by</th>\n",
              "      <th>Falls within</th>\n",
              "      <th>Longitude</th>\n",
              "      <th>Latitude</th>\n",
              "      <th>Location</th>\n",
              "      <th>LSOA code</th>\n",
              "      <th>LSOA name</th>\n",
              "      <th>Crime</th>\n",
              "      <th>Last outcome category</th>\n",
              "      <th>Context</th>\n",
              "    </tr>\n",
              "  </thead>\n",
              "  <tbody>\n",
              "    <tr>\n",
              "      <th>0</th>\n",
              "      <td>ebf4a6aac2abbf98806917e73701cce7ebb30cf12b59c1...</td>\n",
              "      <td>2019-09</td>\n",
              "      <td>Thames Valley Police</td>\n",
              "      <td>Thames Valley Police</td>\n",
              "      <td>-0.970400</td>\n",
              "      <td>51.993385</td>\n",
              "      <td>On or near Willow Drive</td>\n",
              "      <td>E01017648</td>\n",
              "      <td>Aylesbury Vale 001A</td>\n",
              "      <td>Other theft</td>\n",
              "      <td>Investigation complete; no suspect identified</td>\n",
              "      <td>NaN</td>\n",
              "    </tr>\n",
              "    <tr>\n",
              "      <th>1</th>\n",
              "      <td>6c9cb85186382ba3c90a05b46c310601795f310ec104db...</td>\n",
              "      <td>2019-09</td>\n",
              "      <td>Thames Valley Police</td>\n",
              "      <td>Thames Valley Police</td>\n",
              "      <td>-0.971872</td>\n",
              "      <td>51.993965</td>\n",
              "      <td>On or near Bourton Road</td>\n",
              "      <td>E01017648</td>\n",
              "      <td>Aylesbury Vale 001A</td>\n",
              "      <td>Public order</td>\n",
              "      <td>Under investigation</td>\n",
              "      <td>NaN</td>\n",
              "    </tr>\n",
              "    <tr>\n",
              "      <th>2</th>\n",
              "      <td>897707e67ec7d6cf06c5b69a878d04c12d91b033e75d9a...</td>\n",
              "      <td>2019-09</td>\n",
              "      <td>Thames Valley Police</td>\n",
              "      <td>Thames Valley Police</td>\n",
              "      <td>-0.979494</td>\n",
              "      <td>51.997609</td>\n",
              "      <td>On or near Mallard Drive</td>\n",
              "      <td>E01017648</td>\n",
              "      <td>Aylesbury Vale 001A</td>\n",
              "      <td>Theft from the person</td>\n",
              "      <td>Under investigation</td>\n",
              "      <td>NaN</td>\n",
              "    </tr>\n",
              "    <tr>\n",
              "      <th>3</th>\n",
              "      <td>NaN</td>\n",
              "      <td>2019-09</td>\n",
              "      <td>Thames Valley Police</td>\n",
              "      <td>Thames Valley Police</td>\n",
              "      <td>-0.986293</td>\n",
              "      <td>51.997758</td>\n",
              "      <td>On or near Ford Street</td>\n",
              "      <td>E01017649</td>\n",
              "      <td>Aylesbury Vale 001B</td>\n",
              "      <td>Anti-social behaviour</td>\n",
              "      <td>NaN</td>\n",
              "      <td>NaN</td>\n",
              "    </tr>\n",
              "    <tr>\n",
              "      <th>4</th>\n",
              "      <td>cf72455cbdb5d7e748337d3df1983dac9d3071afbf2b85...</td>\n",
              "      <td>2019-09</td>\n",
              "      <td>Thames Valley Police</td>\n",
              "      <td>Thames Valley Police</td>\n",
              "      <td>-0.985433</td>\n",
              "      <td>51.994595</td>\n",
              "      <td>On or near Brookfield Lane</td>\n",
              "      <td>E01017649</td>\n",
              "      <td>Aylesbury Vale 001B</td>\n",
              "      <td>Bicycle theft</td>\n",
              "      <td>Investigation complete; no suspect identified</td>\n",
              "      <td>NaN</td>\n",
              "    </tr>\n",
              "  </tbody>\n",
              "</table>\n",
              "</div>"
            ],
            "text/plain": [
              "                                            Crime ID  ... Context\n",
              "0  ebf4a6aac2abbf98806917e73701cce7ebb30cf12b59c1...  ...     NaN\n",
              "1  6c9cb85186382ba3c90a05b46c310601795f310ec104db...  ...     NaN\n",
              "2  897707e67ec7d6cf06c5b69a878d04c12d91b033e75d9a...  ...     NaN\n",
              "3                                                NaN  ...     NaN\n",
              "4  cf72455cbdb5d7e748337d3df1983dac9d3071afbf2b85...  ...     NaN\n",
              "\n",
              "[5 rows x 12 columns]"
            ]
          },
          "metadata": {
            "tags": []
          },
          "execution_count": 6
        }
      ]
    },
    {
      "cell_type": "code",
      "metadata": {
        "id": "aQHnmvPKrrTm",
        "colab_type": "code",
        "colab": {}
      },
      "source": [
        "crime_data_thames.drop(columns=['Month','Reported by', 'Falls within', 'Location', 'LSOA code', 'LSOA name', 'Last outcome category', 'Context'], inplace=True)"
      ],
      "execution_count": 0,
      "outputs": []
    },
    {
      "cell_type": "code",
      "metadata": {
        "id": "Yj9bx7pFsO6S",
        "colab_type": "code",
        "outputId": "3aafea0d-1277-4415-81a3-1b90bc9573ab",
        "colab": {
          "base_uri": "https://localhost:8080/",
          "height": 204
        }
      },
      "source": [
        "crime_data_thames.head()"
      ],
      "execution_count": 0,
      "outputs": [
        {
          "output_type": "execute_result",
          "data": {
            "text/html": [
              "<div>\n",
              "<style scoped>\n",
              "    .dataframe tbody tr th:only-of-type {\n",
              "        vertical-align: middle;\n",
              "    }\n",
              "\n",
              "    .dataframe tbody tr th {\n",
              "        vertical-align: top;\n",
              "    }\n",
              "\n",
              "    .dataframe thead th {\n",
              "        text-align: right;\n",
              "    }\n",
              "</style>\n",
              "<table border=\"1\" class=\"dataframe\">\n",
              "  <thead>\n",
              "    <tr style=\"text-align: right;\">\n",
              "      <th></th>\n",
              "      <th>Crime ID</th>\n",
              "      <th>Longitude</th>\n",
              "      <th>Latitude</th>\n",
              "      <th>Crime</th>\n",
              "    </tr>\n",
              "  </thead>\n",
              "  <tbody>\n",
              "    <tr>\n",
              "      <th>0</th>\n",
              "      <td>ebf4a6aac2abbf98806917e73701cce7ebb30cf12b59c1...</td>\n",
              "      <td>-0.970400</td>\n",
              "      <td>51.993385</td>\n",
              "      <td>Other theft</td>\n",
              "    </tr>\n",
              "    <tr>\n",
              "      <th>1</th>\n",
              "      <td>6c9cb85186382ba3c90a05b46c310601795f310ec104db...</td>\n",
              "      <td>-0.971872</td>\n",
              "      <td>51.993965</td>\n",
              "      <td>Public order</td>\n",
              "    </tr>\n",
              "    <tr>\n",
              "      <th>2</th>\n",
              "      <td>897707e67ec7d6cf06c5b69a878d04c12d91b033e75d9a...</td>\n",
              "      <td>-0.979494</td>\n",
              "      <td>51.997609</td>\n",
              "      <td>Theft from the person</td>\n",
              "    </tr>\n",
              "    <tr>\n",
              "      <th>3</th>\n",
              "      <td>NaN</td>\n",
              "      <td>-0.986293</td>\n",
              "      <td>51.997758</td>\n",
              "      <td>Anti-social behaviour</td>\n",
              "    </tr>\n",
              "    <tr>\n",
              "      <th>4</th>\n",
              "      <td>cf72455cbdb5d7e748337d3df1983dac9d3071afbf2b85...</td>\n",
              "      <td>-0.985433</td>\n",
              "      <td>51.994595</td>\n",
              "      <td>Bicycle theft</td>\n",
              "    </tr>\n",
              "  </tbody>\n",
              "</table>\n",
              "</div>"
            ],
            "text/plain": [
              "                                            Crime ID  ...                  Crime\n",
              "0  ebf4a6aac2abbf98806917e73701cce7ebb30cf12b59c1...  ...            Other theft\n",
              "1  6c9cb85186382ba3c90a05b46c310601795f310ec104db...  ...           Public order\n",
              "2  897707e67ec7d6cf06c5b69a878d04c12d91b033e75d9a...  ...  Theft from the person\n",
              "3                                                NaN  ...  Anti-social behaviour\n",
              "4  cf72455cbdb5d7e748337d3df1983dac9d3071afbf2b85...  ...          Bicycle theft\n",
              "\n",
              "[5 rows x 4 columns]"
            ]
          },
          "metadata": {
            "tags": []
          },
          "execution_count": 8
        }
      ]
    },
    {
      "cell_type": "code",
      "metadata": {
        "id": "DcaKzFrhbO3w",
        "colab_type": "code",
        "outputId": "38303203-2d7b-43b6-87ff-91850985e172",
        "colab": {
          "base_uri": "https://localhost:8080/",
          "height": 272
        }
      },
      "source": [
        "crime_data_thames.Crime.value_counts()"
      ],
      "execution_count": 0,
      "outputs": [
        {
          "output_type": "execute_result",
          "data": {
            "text/plain": [
              "Violence and sexual offences    4979\n",
              "Anti-social behaviour           2423\n",
              "Other theft                     1634\n",
              "Criminal damage and arson       1606\n",
              "Vehicle crime                   1439\n",
              "Shoplifting                     1143\n",
              "Burglary                         900\n",
              "Public order                     757\n",
              "Bicycle theft                    609\n",
              "Drugs                            495\n",
              "Theft from the person            300\n",
              "Other crime                      274\n",
              "Possession of weapons            176\n",
              "Robbery                          140\n",
              "Name: Crime, dtype: int64"
            ]
          },
          "metadata": {
            "tags": []
          },
          "execution_count": 9
        }
      ]
    },
    {
      "cell_type": "code",
      "metadata": {
        "id": "mF6MZjkEs1N0",
        "colab_type": "code",
        "colab": {}
      },
      "source": [
        "crime_data_thames = crime_data_thames.dropna()"
      ],
      "execution_count": 0,
      "outputs": []
    },
    {
      "cell_type": "code",
      "metadata": {
        "id": "MnVmqEuatWUG",
        "colab_type": "code",
        "outputId": "4ed40786-33fc-4412-d0f5-a0e44a486600",
        "colab": {
          "base_uri": "https://localhost:8080/",
          "height": 255
        }
      },
      "source": [
        "crime_data_thames.Crime.value_counts()"
      ],
      "execution_count": 0,
      "outputs": [
        {
          "output_type": "execute_result",
          "data": {
            "text/plain": [
              "Violence and sexual offences    4425\n",
              "Criminal damage and arson       1450\n",
              "Other theft                     1444\n",
              "Vehicle crime                   1289\n",
              "Shoplifting                      934\n",
              "Burglary                         791\n",
              "Public order                     687\n",
              "Bicycle theft                    541\n",
              "Drugs                            446\n",
              "Theft from the person            270\n",
              "Other crime                      236\n",
              "Possession of weapons            154\n",
              "Robbery                          131\n",
              "Name: Crime, dtype: int64"
            ]
          },
          "metadata": {
            "tags": []
          },
          "execution_count": 11
        }
      ]
    },
    {
      "cell_type": "code",
      "metadata": {
        "id": "bKW4gcilgkDs",
        "colab_type": "code",
        "outputId": "65dbeb38-62de-42b7-a3d7-33d87c0a53ff",
        "colab": {
          "base_uri": "https://localhost:8080/",
          "height": 34
        }
      },
      "source": [
        "THAMES_CRIME = input('Indicate which crime:')"
      ],
      "execution_count": 0,
      "outputs": [
        {
          "output_type": "stream",
          "text": [
            "Indicate which crime:Bicycle theft\n"
          ],
          "name": "stdout"
        }
      ]
    },
    {
      "cell_type": "code",
      "metadata": {
        "id": "zu5aeMolhJWg",
        "colab_type": "code",
        "colab": {}
      },
      "source": [
        "crime_data_thames_subset = crime_data_thames[crime_data_thames.Crime==THAMES_CRIME]"
      ],
      "execution_count": 0,
      "outputs": []
    },
    {
      "cell_type": "code",
      "metadata": {
        "id": "xKUd2sNOhZSc",
        "colab_type": "code",
        "outputId": "b30e0998-9f5f-48d1-fc88-0f1c2b870e97",
        "colab": {
          "base_uri": "https://localhost:8080/",
          "height": 51
        }
      },
      "source": [
        "crime_data_thames_subset_lat_lng = crime_data_thames_subset[['Latitude', 'Longitude']].as_matrix()"
      ],
      "execution_count": 0,
      "outputs": [
        {
          "output_type": "stream",
          "text": [
            "/usr/local/lib/python3.6/dist-packages/ipykernel_launcher.py:1: FutureWarning: Method .as_matrix will be removed in a future version. Use .values instead.\n",
            "  \"\"\"Entry point for launching an IPython kernel.\n"
          ],
          "name": "stderr"
        }
      ]
    },
    {
      "cell_type": "code",
      "metadata": {
        "id": "KBIclofOh7Qu",
        "colab_type": "code",
        "colab": {}
      },
      "source": [
        "import folium\n",
        "from folium import plugins\n",
        "\n",
        "UK_coords = [51.993965, -0.971872]\n",
        "m = folium.Map(UK_coords, zoom_start=8)"
      ],
      "execution_count": 0,
      "outputs": []
    },
    {
      "cell_type": "code",
      "metadata": {
        "id": "9x1IlK0Mj0SS",
        "colab_type": "code",
        "outputId": "b19ae41b-c1f1-4adc-c5d9-195c7433da73",
        "colab": {
          "base_uri": "https://localhost:8080/",
          "height": 799
        }
      },
      "source": [
        "m.add_child(plugins.HeatMap(crime_data_thames_subset_lat_lng))\n",
        "m\n"
      ],
      "execution_count": 0,
      "outputs": [
        {
          "output_type": "execute_result",
          "data": {
            "text/html": [
              "<div style=\"width:100%;\"><div style=\"position:relative;width:100%;height:0;padding-bottom:60%;\"><iframe src=\"data:text/html;charset=utf-8;base64,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\" style=\"position:absolute;width:100%;height:100%;left:0;top:0;border:none !important;\" allowfullscreen webkitallowfullscreen mozallowfullscreen></iframe></div></div>"
            ],
            "text/plain": [
              "<folium.folium.Map at 0x7fa1a59c5198>"
            ]
          },
          "metadata": {
            "tags": []
          },
          "execution_count": 65
        }
      ]
    },
    {
      "cell_type": "code",
      "metadata": {
        "id": "hPabhOCIj6ap",
        "colab_type": "code",
        "outputId": "38f5ac05-c8f3-41cd-b8d5-01f9330aca5e",
        "colab": {
          "base_uri": "https://localhost:8080/",
          "height": 327
        }
      },
      "source": [
        "crime_data_london.drop(columns=['Month','Reported by', 'Falls within', 'Location', 'LSOA code', 'LSOA name', 'Last outcome category', 'Context'], inplace=True)"
      ],
      "execution_count": 0,
      "outputs": [
        {
          "output_type": "error",
          "ename": "KeyError",
          "evalue": "ignored",
          "traceback": [
            "\u001b[0;31m---------------------------------------------------------------------------\u001b[0m",
            "\u001b[0;31mKeyError\u001b[0m                                  Traceback (most recent call last)",
            "\u001b[0;32m<ipython-input-66-bf98ebff4f06>\u001b[0m in \u001b[0;36m<module>\u001b[0;34m()\u001b[0m\n\u001b[0;32m----> 1\u001b[0;31m \u001b[0mcrime_data_london\u001b[0m\u001b[0;34m.\u001b[0m\u001b[0mdrop\u001b[0m\u001b[0;34m(\u001b[0m\u001b[0mcolumns\u001b[0m\u001b[0;34m=\u001b[0m\u001b[0;34m[\u001b[0m\u001b[0;34m'Month'\u001b[0m\u001b[0;34m,\u001b[0m\u001b[0;34m'Reported by'\u001b[0m\u001b[0;34m,\u001b[0m \u001b[0;34m'Falls within'\u001b[0m\u001b[0;34m,\u001b[0m \u001b[0;34m'Location'\u001b[0m\u001b[0;34m,\u001b[0m \u001b[0;34m'LSOA code'\u001b[0m\u001b[0;34m,\u001b[0m \u001b[0;34m'LSOA name'\u001b[0m\u001b[0;34m,\u001b[0m \u001b[0;34m'Last outcome category'\u001b[0m\u001b[0;34m,\u001b[0m \u001b[0;34m'Context'\u001b[0m\u001b[0;34m]\u001b[0m\u001b[0;34m,\u001b[0m \u001b[0minplace\u001b[0m\u001b[0;34m=\u001b[0m\u001b[0;32mTrue\u001b[0m\u001b[0;34m)\u001b[0m\u001b[0;34m\u001b[0m\u001b[0;34m\u001b[0m\u001b[0m\n\u001b[0m",
            "\u001b[0;32m/usr/local/lib/python3.6/dist-packages/pandas/core/frame.py\u001b[0m in \u001b[0;36mdrop\u001b[0;34m(self, labels, axis, index, columns, level, inplace, errors)\u001b[0m\n\u001b[1;32m   4115\u001b[0m             \u001b[0mlevel\u001b[0m\u001b[0;34m=\u001b[0m\u001b[0mlevel\u001b[0m\u001b[0;34m,\u001b[0m\u001b[0;34m\u001b[0m\u001b[0;34m\u001b[0m\u001b[0m\n\u001b[1;32m   4116\u001b[0m             \u001b[0minplace\u001b[0m\u001b[0;34m=\u001b[0m\u001b[0minplace\u001b[0m\u001b[0;34m,\u001b[0m\u001b[0;34m\u001b[0m\u001b[0;34m\u001b[0m\u001b[0m\n\u001b[0;32m-> 4117\u001b[0;31m             \u001b[0merrors\u001b[0m\u001b[0;34m=\u001b[0m\u001b[0merrors\u001b[0m\u001b[0;34m,\u001b[0m\u001b[0;34m\u001b[0m\u001b[0;34m\u001b[0m\u001b[0m\n\u001b[0m\u001b[1;32m   4118\u001b[0m         )\n\u001b[1;32m   4119\u001b[0m \u001b[0;34m\u001b[0m\u001b[0m\n",
            "\u001b[0;32m/usr/local/lib/python3.6/dist-packages/pandas/core/generic.py\u001b[0m in \u001b[0;36mdrop\u001b[0;34m(self, labels, axis, index, columns, level, inplace, errors)\u001b[0m\n\u001b[1;32m   3912\u001b[0m         \u001b[0;32mfor\u001b[0m \u001b[0maxis\u001b[0m\u001b[0;34m,\u001b[0m \u001b[0mlabels\u001b[0m \u001b[0;32min\u001b[0m \u001b[0maxes\u001b[0m\u001b[0;34m.\u001b[0m\u001b[0mitems\u001b[0m\u001b[0;34m(\u001b[0m\u001b[0;34m)\u001b[0m\u001b[0;34m:\u001b[0m\u001b[0;34m\u001b[0m\u001b[0;34m\u001b[0m\u001b[0m\n\u001b[1;32m   3913\u001b[0m             \u001b[0;32mif\u001b[0m \u001b[0mlabels\u001b[0m \u001b[0;32mis\u001b[0m \u001b[0;32mnot\u001b[0m \u001b[0;32mNone\u001b[0m\u001b[0;34m:\u001b[0m\u001b[0;34m\u001b[0m\u001b[0;34m\u001b[0m\u001b[0m\n\u001b[0;32m-> 3914\u001b[0;31m                 \u001b[0mobj\u001b[0m \u001b[0;34m=\u001b[0m \u001b[0mobj\u001b[0m\u001b[0;34m.\u001b[0m\u001b[0m_drop_axis\u001b[0m\u001b[0;34m(\u001b[0m\u001b[0mlabels\u001b[0m\u001b[0;34m,\u001b[0m \u001b[0maxis\u001b[0m\u001b[0;34m,\u001b[0m \u001b[0mlevel\u001b[0m\u001b[0;34m=\u001b[0m\u001b[0mlevel\u001b[0m\u001b[0;34m,\u001b[0m \u001b[0merrors\u001b[0m\u001b[0;34m=\u001b[0m\u001b[0merrors\u001b[0m\u001b[0;34m)\u001b[0m\u001b[0;34m\u001b[0m\u001b[0;34m\u001b[0m\u001b[0m\n\u001b[0m\u001b[1;32m   3915\u001b[0m \u001b[0;34m\u001b[0m\u001b[0m\n\u001b[1;32m   3916\u001b[0m         \u001b[0;32mif\u001b[0m \u001b[0minplace\u001b[0m\u001b[0;34m:\u001b[0m\u001b[0;34m\u001b[0m\u001b[0;34m\u001b[0m\u001b[0m\n",
            "\u001b[0;32m/usr/local/lib/python3.6/dist-packages/pandas/core/generic.py\u001b[0m in \u001b[0;36m_drop_axis\u001b[0;34m(self, labels, axis, level, errors)\u001b[0m\n\u001b[1;32m   3944\u001b[0m                 \u001b[0mnew_axis\u001b[0m \u001b[0;34m=\u001b[0m \u001b[0maxis\u001b[0m\u001b[0;34m.\u001b[0m\u001b[0mdrop\u001b[0m\u001b[0;34m(\u001b[0m\u001b[0mlabels\u001b[0m\u001b[0;34m,\u001b[0m \u001b[0mlevel\u001b[0m\u001b[0;34m=\u001b[0m\u001b[0mlevel\u001b[0m\u001b[0;34m,\u001b[0m \u001b[0merrors\u001b[0m\u001b[0;34m=\u001b[0m\u001b[0merrors\u001b[0m\u001b[0;34m)\u001b[0m\u001b[0;34m\u001b[0m\u001b[0;34m\u001b[0m\u001b[0m\n\u001b[1;32m   3945\u001b[0m             \u001b[0;32melse\u001b[0m\u001b[0;34m:\u001b[0m\u001b[0;34m\u001b[0m\u001b[0;34m\u001b[0m\u001b[0m\n\u001b[0;32m-> 3946\u001b[0;31m                 \u001b[0mnew_axis\u001b[0m \u001b[0;34m=\u001b[0m \u001b[0maxis\u001b[0m\u001b[0;34m.\u001b[0m\u001b[0mdrop\u001b[0m\u001b[0;34m(\u001b[0m\u001b[0mlabels\u001b[0m\u001b[0;34m,\u001b[0m \u001b[0merrors\u001b[0m\u001b[0;34m=\u001b[0m\u001b[0merrors\u001b[0m\u001b[0;34m)\u001b[0m\u001b[0;34m\u001b[0m\u001b[0;34m\u001b[0m\u001b[0m\n\u001b[0m\u001b[1;32m   3947\u001b[0m             \u001b[0mresult\u001b[0m \u001b[0;34m=\u001b[0m \u001b[0mself\u001b[0m\u001b[0;34m.\u001b[0m\u001b[0mreindex\u001b[0m\u001b[0;34m(\u001b[0m\u001b[0;34m**\u001b[0m\u001b[0;34m{\u001b[0m\u001b[0maxis_name\u001b[0m\u001b[0;34m:\u001b[0m \u001b[0mnew_axis\u001b[0m\u001b[0;34m}\u001b[0m\u001b[0;34m)\u001b[0m\u001b[0;34m\u001b[0m\u001b[0;34m\u001b[0m\u001b[0m\n\u001b[1;32m   3948\u001b[0m \u001b[0;34m\u001b[0m\u001b[0m\n",
            "\u001b[0;32m/usr/local/lib/python3.6/dist-packages/pandas/core/indexes/base.py\u001b[0m in \u001b[0;36mdrop\u001b[0;34m(self, labels, errors)\u001b[0m\n\u001b[1;32m   5338\u001b[0m         \u001b[0;32mif\u001b[0m \u001b[0mmask\u001b[0m\u001b[0;34m.\u001b[0m\u001b[0many\u001b[0m\u001b[0;34m(\u001b[0m\u001b[0;34m)\u001b[0m\u001b[0;34m:\u001b[0m\u001b[0;34m\u001b[0m\u001b[0;34m\u001b[0m\u001b[0m\n\u001b[1;32m   5339\u001b[0m             \u001b[0;32mif\u001b[0m \u001b[0merrors\u001b[0m \u001b[0;34m!=\u001b[0m \u001b[0;34m\"ignore\"\u001b[0m\u001b[0;34m:\u001b[0m\u001b[0;34m\u001b[0m\u001b[0;34m\u001b[0m\u001b[0m\n\u001b[0;32m-> 5340\u001b[0;31m                 \u001b[0;32mraise\u001b[0m \u001b[0mKeyError\u001b[0m\u001b[0;34m(\u001b[0m\u001b[0;34m\"{} not found in axis\"\u001b[0m\u001b[0;34m.\u001b[0m\u001b[0mformat\u001b[0m\u001b[0;34m(\u001b[0m\u001b[0mlabels\u001b[0m\u001b[0;34m[\u001b[0m\u001b[0mmask\u001b[0m\u001b[0;34m]\u001b[0m\u001b[0;34m)\u001b[0m\u001b[0;34m)\u001b[0m\u001b[0;34m\u001b[0m\u001b[0;34m\u001b[0m\u001b[0m\n\u001b[0m\u001b[1;32m   5341\u001b[0m             \u001b[0mindexer\u001b[0m \u001b[0;34m=\u001b[0m \u001b[0mindexer\u001b[0m\u001b[0;34m[\u001b[0m\u001b[0;34m~\u001b[0m\u001b[0mmask\u001b[0m\u001b[0;34m]\u001b[0m\u001b[0;34m\u001b[0m\u001b[0;34m\u001b[0m\u001b[0m\n\u001b[1;32m   5342\u001b[0m         \u001b[0;32mreturn\u001b[0m \u001b[0mself\u001b[0m\u001b[0;34m.\u001b[0m\u001b[0mdelete\u001b[0m\u001b[0;34m(\u001b[0m\u001b[0mindexer\u001b[0m\u001b[0;34m)\u001b[0m\u001b[0;34m\u001b[0m\u001b[0;34m\u001b[0m\u001b[0m\n",
            "\u001b[0;31mKeyError\u001b[0m: \"['Month' 'Reported by' 'Falls within' 'Location' 'LSOA code' 'LSOA name'\\n 'Last outcome category' 'Context'] not found in axis\""
          ]
        }
      ]
    },
    {
      "cell_type": "code",
      "metadata": {
        "id": "Fx_Mo6CefUUS",
        "colab_type": "code",
        "outputId": "c170af90-0e4a-4a53-962e-13b7c7e0496b",
        "colab": {
          "base_uri": "https://localhost:8080/",
          "height": 204
        }
      },
      "source": [
        "crime_data_london.head()"
      ],
      "execution_count": 0,
      "outputs": [
        {
          "output_type": "execute_result",
          "data": {
            "text/html": [
              "<div>\n",
              "<style scoped>\n",
              "    .dataframe tbody tr th:only-of-type {\n",
              "        vertical-align: middle;\n",
              "    }\n",
              "\n",
              "    .dataframe tbody tr th {\n",
              "        vertical-align: top;\n",
              "    }\n",
              "\n",
              "    .dataframe thead th {\n",
              "        text-align: right;\n",
              "    }\n",
              "</style>\n",
              "<table border=\"1\" class=\"dataframe\">\n",
              "  <thead>\n",
              "    <tr style=\"text-align: right;\">\n",
              "      <th></th>\n",
              "      <th>Crime ID</th>\n",
              "      <th>Longitude</th>\n",
              "      <th>Latitude</th>\n",
              "      <th>Crime</th>\n",
              "    </tr>\n",
              "  </thead>\n",
              "  <tbody>\n",
              "    <tr>\n",
              "      <th>0</th>\n",
              "      <td>7a25ca529811eb9e72ed2f9439e30db33403f9c84d0843...</td>\n",
              "      <td>-0.118676</td>\n",
              "      <td>51.527648</td>\n",
              "      <td>Drugs</td>\n",
              "    </tr>\n",
              "    <tr>\n",
              "      <th>1</th>\n",
              "      <td>c7774ecc82a7a5bb6e37aeaf05d18e6bec368c858c0ced...</td>\n",
              "      <td>-0.111497</td>\n",
              "      <td>51.518226</td>\n",
              "      <td>Burglary</td>\n",
              "    </tr>\n",
              "    <tr>\n",
              "      <th>2</th>\n",
              "      <td>d25e7baa3f8008797b349b458fe21899f54413ae50f1c6...</td>\n",
              "      <td>-0.112422</td>\n",
              "      <td>51.515381</td>\n",
              "      <td>Other theft</td>\n",
              "    </tr>\n",
              "    <tr>\n",
              "      <th>3</th>\n",
              "      <td>9ae0ef6983404acb5daf55d994c686421b458de14ebb34...</td>\n",
              "      <td>-0.111962</td>\n",
              "      <td>51.518494</td>\n",
              "      <td>Theft from the person</td>\n",
              "    </tr>\n",
              "    <tr>\n",
              "      <th>10</th>\n",
              "      <td>fa23f98d68f1fad22270624e9794e35a4de76953b5e481...</td>\n",
              "      <td>-0.098642</td>\n",
              "      <td>51.517146</td>\n",
              "      <td>Bicycle theft</td>\n",
              "    </tr>\n",
              "  </tbody>\n",
              "</table>\n",
              "</div>"
            ],
            "text/plain": [
              "                                             Crime ID  ...                  Crime\n",
              "0   7a25ca529811eb9e72ed2f9439e30db33403f9c84d0843...  ...                  Drugs\n",
              "1   c7774ecc82a7a5bb6e37aeaf05d18e6bec368c858c0ced...  ...               Burglary\n",
              "2   d25e7baa3f8008797b349b458fe21899f54413ae50f1c6...  ...            Other theft\n",
              "3   9ae0ef6983404acb5daf55d994c686421b458de14ebb34...  ...  Theft from the person\n",
              "10  fa23f98d68f1fad22270624e9794e35a4de76953b5e481...  ...          Bicycle theft\n",
              "\n",
              "[5 rows x 4 columns]"
            ]
          },
          "metadata": {
            "tags": []
          },
          "execution_count": 67
        }
      ]
    },
    {
      "cell_type": "code",
      "metadata": {
        "id": "adzyLonTfene",
        "colab_type": "code",
        "colab": {}
      },
      "source": [
        "crime_data_london = crime_data_london.dropna()"
      ],
      "execution_count": 0,
      "outputs": []
    },
    {
      "cell_type": "code",
      "metadata": {
        "id": "McsPZeUqhnPc",
        "colab_type": "code",
        "outputId": "ee452197-712e-4822-fb76-ba164ed1bac7",
        "colab": {
          "base_uri": "https://localhost:8080/",
          "height": 255
        }
      },
      "source": [
        "crime_data_london.Crime.value_counts()"
      ],
      "execution_count": 0,
      "outputs": [
        {
          "output_type": "execute_result",
          "data": {
            "text/plain": [
              "Other theft                     174\n",
              "Violence and sexual offences    122\n",
              "Drugs                            72\n",
              "Theft from the person            68\n",
              "Shoplifting                      58\n",
              "Public order                     38\n",
              "Criminal damage and arson        36\n",
              "Bicycle theft                    31\n",
              "Burglary                         25\n",
              "Other crime                      24\n",
              "Vehicle crime                    18\n",
              "Robbery                          12\n",
              "Possession of weapons             6\n",
              "Name: Crime, dtype: int64"
            ]
          },
          "metadata": {
            "tags": []
          },
          "execution_count": 44
        }
      ]
    },
    {
      "cell_type": "code",
      "metadata": {
        "id": "2I8vwodGism5",
        "colab_type": "code",
        "outputId": "962b499d-29dc-48be-e802-7334f392ba04",
        "colab": {
          "base_uri": "https://localhost:8080/",
          "height": 34
        }
      },
      "source": [
        "LONDON_CRIME = input('Indicate which crime:')"
      ],
      "execution_count": 0,
      "outputs": [
        {
          "output_type": "stream",
          "text": [
            "Indicate which crime:Violence and sexual offences\n"
          ],
          "name": "stdout"
        }
      ]
    },
    {
      "cell_type": "code",
      "metadata": {
        "id": "vwCcFGcQiB80",
        "colab_type": "code",
        "colab": {}
      },
      "source": [
        "crime_data_london_subset = crime_data_london[crime_data_london.Crime==LONDON_CRIME]"
      ],
      "execution_count": 0,
      "outputs": []
    },
    {
      "cell_type": "code",
      "metadata": {
        "id": "KfW4xNYQjw_I",
        "colab_type": "code",
        "outputId": "2c3a2fb6-a966-4b7f-ccef-cbe94e2e4879",
        "colab": {
          "base_uri": "https://localhost:8080/",
          "height": 51
        }
      },
      "source": [
        "crime_data_london_subset_lat_lng = crime_data_london_subset[['Latitude', 'Longitude']].as_matrix()"
      ],
      "execution_count": 0,
      "outputs": [
        {
          "output_type": "stream",
          "text": [
            "/usr/local/lib/python3.6/dist-packages/ipykernel_launcher.py:1: FutureWarning: Method .as_matrix will be removed in a future version. Use .values instead.\n",
            "  \"\"\"Entry point for launching an IPython kernel.\n"
          ],
          "name": "stderr"
        }
      ]
    },
    {
      "cell_type": "code",
      "metadata": {
        "id": "eb6CkkpEidX6",
        "colab_type": "code",
        "outputId": "4f32163a-f968-4466-8920-abfe712b7b06",
        "colab": {
          "base_uri": "https://localhost:8080/",
          "height": 799
        }
      },
      "source": [
        "m.add_child(plugins.HeatMap(crime_data_london_subset_lat_lng))\n",
        "m"
      ],
      "execution_count": 0,
      "outputs": [
        {
          "output_type": "execute_result",
          "data": {
            "text/html": [
              "<div style=\"width:100%;\"><div style=\"position:relative;width:100%;height:0;padding-bottom:60%;\"><iframe src=\"data:text/html;charset=utf-8;base64,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\" style=\"position:absolute;width:100%;height:100%;left:0;top:0;border:none !important;\" allowfullscreen webkitallowfullscreen mozallowfullscreen></iframe></div></div>"
            ],
            "text/plain": [
              "<folium.folium.Map at 0x7fa1a59c5198>"
            ]
          },
          "metadata": {
            "tags": []
          },
          "execution_count": 75
        }
      ]
    },
    {
      "cell_type": "code",
      "metadata": {
        "id": "73yeAulRjixV",
        "colab_type": "code",
        "colab": {}
      },
      "source": [
        ""
      ],
      "execution_count": 0,
      "outputs": []
    }
  ]
}